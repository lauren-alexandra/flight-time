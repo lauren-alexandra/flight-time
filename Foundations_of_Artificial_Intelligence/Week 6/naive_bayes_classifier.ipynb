{
  "nbformat": 4,
  "nbformat_minor": 0,
  "metadata": {
    "colab": {
      "name": "naive_bayes_classifier.ipynb",
      "provenance": [],
      "collapsed_sections": []
    },
    "kernelspec": {
      "name": "python3",
      "display_name": "Python 3"
    },
    "language_info": {
      "name": "python"
    }
  },
  "cells": [
    {
      "cell_type": "code",
      "source": [
        "import numpy as np\n",
        "import pandas as pd\n",
        "from sklearn import preprocessing\n",
        "from sklearn.naive_bayes import GaussianNB\n",
        "from sklearn.model_selection import train_test_split\n",
        "from sklearn import metrics"
      ],
      "metadata": {
        "id": "IH-gpYUyDGFI"
      },
      "execution_count": 176,
      "outputs": []
    },
    {
      "cell_type": "code",
      "execution_count": 177,
      "metadata": {
        "id": "wy8A8Nvc7myt"
      },
      "outputs": [],
      "source": [
        "genre=['Romance','Thriller','Mystery','History','Thriller','Mystery','Mystery','Romance','History','Mystery','History','Romance','Romance','Thriller', 'Romance','Thriller','Mystery','History','Thriller','Mystery','Mystery','Romance','History','Mystery','History','Romance','Romance','Thriller']\n",
        "cost=['under-5','under-20','under-10','under-30','under-30','under-5','under-20','under-20','under-30','under-10','under-30','under-5','under-5','under-5', 'under-5','under-20','under-10','under-30','under-30','under-5','under-20','under-20','under-30','under-10','under-30','under-5','under-5','under-5']\n",
        "\n",
        "# labels\n",
        "read=['Yes','Yes','No','Yes','Yes','Yes','No','No','Yes','No','Yes','Yes','Yes','Yes','Yes','Yes','No','Yes','Yes','Yes','No','No','Yes','No','Yes','Yes','Yes','Yes']\n",
        "\n",
        "output = {\n",
        "    1: \"Get this book!\",\n",
        "    0: \"Don't buy this book.\"\n",
        "}"
      ]
    },
    {
      "cell_type": "code",
      "source": [
        "ro_no, ro_yes, th_no, th_yes, my_no, my_yes, his_no, his_yes, under_five_no, under_five_yes, under_ten_no, under_ten_yes, under_twenty_no, under_twenty_yes, under_thirty_no, under_thirty_yes = (0, 0, 0, 0, 0, 0, 0, 0, 0, 0, 0, 0, 0, 0, 0, 0)"
      ],
      "metadata": {
        "id": "4mGNqJnLTJKN"
      },
      "execution_count": 178,
      "outputs": []
    },
    {
      "cell_type": "code",
      "source": [
        "# collect frequency counts \n",
        "genre_zip = list(zip(genre, read))\n",
        "cost_zip = list(zip(cost, read))\n",
        "\n",
        "for pair in genre_zip:\n",
        "  if (pair[0] == 'Romance') and (pair[1] == 'Yes'): ro_yes += 1 \n",
        "  elif (pair[0] == 'Romance') and (pair[1] == 'No'): ro_no += 1 \n",
        "  elif (pair[0] == 'Thriller') and (pair[1] == 'Yes'): th_yes += 1 \n",
        "  elif (pair[0] == 'Thriller') and (pair[1] == 'No'): th_no += 1 \n",
        "  elif (pair[0] == 'Mystery') and (pair[1] == 'Yes'): my_yes += 1 \n",
        "  elif (pair[0] == 'Mystery') and (pair[1] == 'No'): my_no += 1 \n",
        "  elif (pair[0] == 'History') and (pair[1] == 'Yes'): his_yes += 1 \n",
        "  else: his_no += 1   \n",
        "\n",
        "for pair in cost_zip:\n",
        "  if (pair[0] == 'under-5') and (pair[1] == 'Yes'): under_five_yes += 1 \n",
        "  elif (pair[0] == 'under-5') and (pair[1] == 'No'): under_five_no += 1 \n",
        "  elif (pair[0] == 'under-10') and (pair[1] == 'Yes'): under_ten_yes += 1 \n",
        "  elif (pair[0] == 'under-10') and (pair[1] == 'No'): under_ten_no += 1 \n",
        "  elif (pair[0] == 'under-20') and (pair[1] == 'Yes'): under_twenty_yes += 1 \n",
        "  elif (pair[0] == 'under-20') and (pair[1] == 'No'): under_twenty_no += 1 \n",
        "  elif (pair[0] == 'under-30') and (pair[1] == 'Yes'): under_thirty_yes += 1 \n",
        "  else: under_thirty_no += 1  "
      ],
      "metadata": {
        "id": "mMOV6A7QR1Z6"
      },
      "execution_count": 179,
      "outputs": []
    },
    {
      "cell_type": "code",
      "source": [
        "labencode = preprocessing.LabelEncoder()\n",
        "\n",
        "genre = labencode.fit_transform(genre) \n",
        "cost = labencode.fit_transform(cost) \n",
        "label = labencode.fit_transform(read) "
      ],
      "metadata": {
        "id": "-rlj8OvbDGJO"
      },
      "execution_count": 181,
      "outputs": []
    },
    {
      "cell_type": "code",
      "source": [
        "features = np.transpose((genre, cost))"
      ],
      "metadata": {
        "id": "7Q6O-PCIDGTS"
      },
      "execution_count": 182,
      "outputs": []
    },
    {
      "cell_type": "code",
      "source": [
        "# split into train and test sets \n",
        "X_train, X_test, y_train, y_test = train_test_split(features, label, test_size=0.3,random_state=32) "
      ],
      "metadata": {
        "id": "80KMywxQiNYO"
      },
      "execution_count": 183,
      "outputs": []
    },
    {
      "cell_type": "code",
      "source": [
        "# apply Laplacian correction by adding 1 data point for each feature-label pair\n",
        "\"\"\"\n",
        "[0, 3, 1]  \n",
        "[1, 2, 0]\n",
        "[2, 1, 0]\n",
        "[3, 0, 1]\n",
        "\"\"\"\n",
        "\n",
        "# add to label\n",
        "lab_add = [1, 0, 0, 1]\n",
        "# add to features\n",
        "feat_add = [[0, 3], [1, 2], [2, 1], [3, 0]]\n",
        "\n",
        "X_train = np.concatenate((X_train, feat_add), axis=0)\n",
        "y_train = np.concatenate((y_train, lab_add), axis=0)"
      ],
      "metadata": {
        "id": "34C_HwPZC94F"
      },
      "execution_count": 184,
      "outputs": []
    },
    {
      "cell_type": "code",
      "source": [
        "model = GaussianNB()\n",
        "\n",
        "# train\n",
        "model.fit(X_train, y_train)"
      ],
      "metadata": {
        "id": "-gQBvXIgDGjo",
        "colab": {
          "base_uri": "https://localhost:8080/"
        },
        "outputId": "61ebacaa-5ea7-48b8-d4ea-fecb8a00e8bc"
      },
      "execution_count": 185,
      "outputs": [
        {
          "output_type": "execute_result",
          "data": {
            "text/plain": [
              "GaussianNB()"
            ]
          },
          "metadata": {},
          "execution_count": 185
        }
      ]
    },
    {
      "cell_type": "code",
      "source": [
        "# predict \n",
        "book1 = model.predict([[2,3]]) # 2:Romance, 3:under-5\n",
        "book1prob = model.predict_proba([[2,3]])\n",
        "print(\"Given a book under $5 in the Romance genre...\")\n",
        "print(\"Predicted Value:\", book1[0])\n",
        "print(output[book1[0]])"
      ],
      "metadata": {
        "id": "IwW_O3KCDGnF",
        "colab": {
          "base_uri": "https://localhost:8080/"
        },
        "outputId": "4b72b7ce-8c3b-488b-f5d9-80a84ec4c44f"
      },
      "execution_count": 194,
      "outputs": [
        {
          "output_type": "stream",
          "name": "stdout",
          "text": [
            "Given a book under $5 in the Romance genre...\n",
            "Predicted Value: 1\n",
            "Get this book!\n"
          ]
        }
      ]
    },
    {
      "cell_type": "code",
      "source": [
        "book2 = model.predict([[2,0]]) # 2:Romance, 0:under-10\n",
        "print(\"Given a book under $10 in the Romance genre...\")\n",
        "print(\"Predicted Value:\", book2[0])\n",
        "print(output[book2[0]])"
      ],
      "metadata": {
        "id": "Lc17BsdBDGqj",
        "colab": {
          "base_uri": "https://localhost:8080/"
        },
        "outputId": "dfbc7f0a-86b4-4a96-ad92-16373a233d68"
      },
      "execution_count": 195,
      "outputs": [
        {
          "output_type": "stream",
          "name": "stdout",
          "text": [
            "Given a book under $10 in the Romance genre...\n",
            "Predicted Value: 0\n",
            "Don't buy this book.\n"
          ]
        }
      ]
    },
    {
      "cell_type": "code",
      "source": [
        "book3 = model.predict([[0,2]]) # 0:History, 2:under-30\n",
        "print(\"Given a book under $30 in the History genre...\")\n",
        "print(\"Predicted Value:\", book3[0])\n",
        "print(output[book3[0]])"
      ],
      "metadata": {
        "id": "ne4gqo0fDGuN",
        "colab": {
          "base_uri": "https://localhost:8080/"
        },
        "outputId": "118f5b38-5a68-41bc-8026-1a72dc792525"
      },
      "execution_count": 196,
      "outputs": [
        {
          "output_type": "stream",
          "name": "stdout",
          "text": [
            "Given a book under $30 in the History genre...\n",
            "Predicted Value: 1\n",
            "Get this book!\n"
          ]
        }
      ]
    },
    {
      "cell_type": "code",
      "source": [
        "book4 = model.predict([[1,0]]) # 1:Mystery, 2:under-10\n",
        "print(\"Given a book under $10 in the Mystery genre...\")\n",
        "print(\"Predicted Value:\", book4[0])\n",
        "print(output[book4[0]])"
      ],
      "metadata": {
        "id": "CIRCPu8NDHBJ",
        "colab": {
          "base_uri": "https://localhost:8080/"
        },
        "outputId": "670e7c8e-0f1e-49bd-bae9-a9e583b36ebf"
      },
      "execution_count": 197,
      "outputs": [
        {
          "output_type": "stream",
          "name": "stdout",
          "text": [
            "Given a book under $10 in the Mystery genre...\n",
            "Predicted Value: 0\n",
            "Don't buy this book.\n"
          ]
        }
      ]
    },
    {
      "cell_type": "code",
      "source": [
        "# Calculate the posterior probability by converting the dataset into a frequency table.\n",
        "\n",
        "# The Frequency table contains the occurrence of labels for all features. \n",
        "feat_list = ['Romance','Thriller','Mystery','History', 'under-5','under-10','under-20','under-30']\n",
        "no_vals = [ro_no, th_no, my_no, his_no, under_five_no, under_ten_no, under_twenty_no, under_thirty_no]\n",
        "yes_vals = [ro_yes, th_yes, my_yes, his_yes, under_five_yes, under_ten_yes, under_twenty_yes, under_thirty_yes]"
      ],
      "metadata": {
        "id": "t4PmIFePDHMj"
      },
      "execution_count": 198,
      "outputs": []
    },
    {
      "cell_type": "code",
      "source": [
        "freq_table = pd.DataFrame(list(zip(no_vals, yes_vals)), index=feat_list, columns=['No', 'Yes'])\n",
        "no_total = freq_table['No'].sum()\n",
        "yes_total = freq_table['Yes'].sum()\n",
        "freq_table.loc['Total'] = [no_total, yes_total]\n",
        "print(\"Frequency Table\")\n",
        "print(freq_table)"
      ],
      "metadata": {
        "colab": {
          "base_uri": "https://localhost:8080/"
        },
        "id": "Vyn0JFoQN3_L",
        "outputId": "657b9329-8f3c-4e6d-ff40-25f861ad1e95"
      },
      "execution_count": 199,
      "outputs": [
        {
          "output_type": "stream",
          "name": "stdout",
          "text": [
            "Frequency Table\n",
            "          No  Yes\n",
            "Romance    2    6\n",
            "Thriller   0    6\n",
            "Mystery    6    2\n",
            "History    0    6\n",
            "under-5    0   10\n",
            "under-10   4    0\n",
            "under-20   4    2\n",
            "under-30   0    8\n",
            "Total     16   40\n"
          ]
        }
      ]
    },
    {
      "cell_type": "code",
      "source": [
        "# Likelihood table for the posterior probability\n",
        "post_prob_no = []\n",
        "post_prob_yes = []\n",
        "\n",
        "for num in no_vals:\n",
        "  post_prob_no.append(num / no_total)\n",
        "\n",
        "for num in yes_vals:\n",
        "  post_prob_yes.append(num / yes_total)\n",
        "\n",
        "post_prob_no.append('')\n",
        "post_prob_yes.append('')\n",
        "\n",
        "freq_table['Posterior Probability for No'] = post_prob_no\n",
        "freq_table['Posterior Probability for Yes'] = post_prob_yes\n",
        "  \n",
        "print(\"Posterior Probability for each class\")\n",
        "print(freq_table)"
      ],
      "metadata": {
        "id": "Plzlmg_qDHRI",
        "colab": {
          "base_uri": "https://localhost:8080/"
        },
        "outputId": "4fa69f8b-29fe-4c55-877e-a4c420a7e297"
      },
      "execution_count": 200,
      "outputs": [
        {
          "output_type": "stream",
          "name": "stdout",
          "text": [
            "Posterior Probability for each class\n",
            "          No  Yes Posterior Probability for No Posterior Probability for Yes\n",
            "Romance    2    6                        0.125                          0.15\n",
            "Thriller   0    6                            0                          0.15\n",
            "Mystery    6    2                        0.375                          0.05\n",
            "History    0    6                            0                          0.15\n",
            "under-5    0   10                            0                          0.25\n",
            "under-10   4    0                         0.25                             0\n",
            "under-20   4    2                         0.25                          0.05\n",
            "under-30   0    8                            0                           0.2\n",
            "Total     16   40                                                           \n"
          ]
        }
      ]
    }
  ]
}