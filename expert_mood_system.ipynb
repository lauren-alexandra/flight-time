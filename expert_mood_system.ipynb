{
  "nbformat": 4,
  "nbformat_minor": 0,
  "metadata": {
    "colab": {
      "name": "expert-mood-system.ipynb",
      "provenance": [],
      "collapsed_sections": []
    },
    "kernelspec": {
      "name": "python3",
      "display_name": "Python 3"
    },
    "language_info": {
      "name": "python"
    }
  },
  "cells": [
    {
      "cell_type": "code",
      "source": [
        "!pip install experta"
      ],
      "metadata": {
        "colab": {
          "base_uri": "https://localhost:8080/"
        },
        "id": "hmbe3LIb-cDL",
        "outputId": "dd85a5c6-112e-466c-b969-192cf7f38210"
      },
      "execution_count": 6,
      "outputs": [
        {
          "output_type": "stream",
          "name": "stdout",
          "text": [
            "Requirement already satisfied: experta in /usr/local/lib/python3.7/dist-packages (1.9.4)\n",
            "Requirement already satisfied: frozendict==1.2 in /usr/local/lib/python3.7/dist-packages (from experta) (1.2)\n",
            "Requirement already satisfied: schema==0.6.7 in /usr/local/lib/python3.7/dist-packages (from experta) (0.6.7)\n"
          ]
        }
      ]
    },
    {
      "cell_type": "code",
      "execution_count": 8,
      "metadata": {
        "id": "7ja4KiwV9Tsf"
      },
      "outputs": [],
      "source": [
        "from experta import *\n",
        "from experta.fact import *"
      ]
    },
    {
      "cell_type": "code",
      "source": [
        "gad_questionnaire = [\n",
        "                     '(1/19) Feeling nervous, anxious, or on edge: ', \n",
        "                     '(2/19) Not being able to stop or control worrying: ',\n",
        "                     '(3/19) Worrying too much about different things: ',\n",
        "                     '(4/19) Trouble relaxing: ',\n",
        "                     '(5/19) Being so restless that it is hard to sit still: ',\n",
        "                     '(6/19) Becoming easily annoyed or irritable: ',\n",
        "                     '(7/19) Feeling afraid, as if something awful might happen: '\n",
        "                    ]\n",
        "\n",
        "mdi_questionnaire = [\n",
        "                     '(8/19) Have you felt low in spirits or sad? ',\n",
        "                     '(9/19) Have you lost interest in your daily activities? ',\n",
        "                     '(10/19) Have you felt lacking in energy and strength? ',\n",
        "                     '(11/19) Have you felt less self-confident? ',\n",
        "                     '(12/19) Have you had a bad conscience or feelings of guilt? ',\n",
        "                     \"(13/19) Have you felt that life wasn't worth living? \",\n",
        "                     '(14/19) Have you had difficulty concentrating, e.g. when reading the newspaper or watching television? ',\n",
        "                     '(15/19) Have you felt very restless? ',\n",
        "                     '(16/19) Have you felt subdued or slowed down? ',\n",
        "                     '(17/19) Have you had trouble sleeping at night? ',\n",
        "                     '(18/19) Have you suffered from reduced appetite? ',\n",
        "                     '(19/19) Have you suffered from increased appetite? '\n",
        "                    ]"
      ],
      "metadata": {
        "id": "wIVYrJb4zzOk"
      },
      "execution_count": 80,
      "outputs": []
    },
    {
      "cell_type": "code",
      "source": [
        "class MoodAssessment(KnowledgeEngine):\n",
        "    @DefFacts()\n",
        "    def _initial_action(self):\n",
        "        self.patient_scores = thisdict = {\"anxiety_score\": -1, \"depression_score\": -1} \n",
        "        self.mdi_first_selection = [] \n",
        "        self.mdi_second_selection = [] \n",
        "        self.mdi_third_selection = [] \n",
        "        yield Fact(anxiety=-1)\n",
        "        yield Fact(depression=-1)\n",
        "    \n",
        "    @Rule()\n",
        "    def startup(self):\n",
        "        print(\"This is an anxiety and depression self-assessment. Please answer all questions.\\n\")\n",
        "        print(\"Over the last two weeks, how often have you been bothered by the following problems?\\n\")\n",
        "        print(\"Please enter numbers only:\")\n",
        "        print(\"Not at all = 0, Several days = 1, More than half the days = 2, Nearly every day = 3\\n\")\n",
        "        for question in gad_questionnaire: \n",
        "            res = int(input(question))\n",
        "            self.patient_scores[\"anxiety_score\"] = self.patient_scores[\"anxiety_score\"] + res\n",
        "        \n",
        "        print(\"\\nHow much of the time have you experienced the following?\\n\")\n",
        "        print(\"Please enter numbers only:\")\n",
        "        print(\"At no time = 0, Some of the time = 1, Slightly less than half the time = 2, Slightly more than half the time = 3, Most of the time = 4, All the time = 5\\n\")\n",
        "        for num, q in enumerate(mdi_questionnaire, start=1):\n",
        "            if (num == 4 or num == 5):\n",
        "                res = int(input(q))\n",
        "                self.mdi_first_selection.append(res) \n",
        "            elif (num == 8 or num == 9):\n",
        "                res = int(input(q))\n",
        "                self.mdi_second_selection.append(res) \n",
        "            elif (num == 11 or num == 12):\n",
        "                res = int(input(q))\n",
        "                self.mdi_third_selection.append(res) \n",
        "            else:\n",
        "              res = int(input(q)) \n",
        "              self.patient_scores[\"depression_score\"] = self.patient_scores[\"depression_score\"] + res\n",
        "\n",
        "        # update scoring to reflect max of specific mdi symptoms    \n",
        "        self.patient_scores[\"depression_score\"] = self.patient_scores[\"depression_score\"] + max(self.mdi_first_selection) + max(self.mdi_second_selection) + max(self.mdi_third_selection)  \n",
        "        # minimize score for rule execution if mdi score over 30\n",
        "        if (self.patient_scores[\"depression_score\"] > 29):\n",
        "            self.patient_scores[\"depression_score\"] = 30 \n",
        "\n",
        "        self.modify(engine.facts[1], anxiety=self.patient_scores[\"anxiety_score\"])\n",
        "        self.modify(engine.facts[2], depression=self.patient_scores[\"depression_score\"])\n",
        "\n",
        "    \n",
        "    # 0–4: minimal anxiety\n",
        "    @Rule(OR(Fact(anxiety=0), Fact(anxiety=1), Fact(anxiety=2), Fact(anxiety=3), Fact(anxiety=4)))\n",
        "    def match_with_minimal_anxiety(self):\n",
        "        print(\"\\nYou may have minimal anxiety.\")\n",
        "\n",
        "    # 5–9: mild anxiety \n",
        "    @Rule(OR(Fact(anxiety=5), Fact(anxiety=6), Fact(anxiety=7), Fact(anxiety=8), Fact(anxiety=9)))\n",
        "    def match_with_mild_anxiety(self):\n",
        "        print(\"\\nYou may have mild anxiety.\")\n",
        "\n",
        "    # 10–14: moderate anxiety \n",
        "    @Rule(OR(Fact(anxiety=10), Fact(anxiety=11), Fact(anxiety=12), Fact(anxiety=13), Fact(anxiety=14)))\n",
        "    def match_with_moderate_anxiety(self):\n",
        "        print(\"\\nYou may have moderate anxiety.\")\n",
        "\n",
        "    # 15–21: severe anxiety \n",
        "    @Rule(OR(Fact(anxiety=15), Fact(anxiety=16), Fact(anxiety=17), Fact(anxiety=18), Fact(anxiety=19), Fact(anxiety=20), Fact(anxiety=21)))\n",
        "    def match_with_severe_anxiety(self):\n",
        "        print(\"\\nYou may have severe anxiety.\")\n",
        "\n",
        "    # 20-24: mild depression\n",
        "    @Rule(OR(Fact(depression=20), Fact(depression=21), Fact(depression=22), Fact(depression=23), Fact(depression=24)))\n",
        "    def match_with_mild_depression(self):\n",
        "        print(\"\\nYou may have mild depression.\")\n",
        "\n",
        "    # 25-29: moderate depression\n",
        "    @Rule(OR(Fact(depression=25), Fact(depression=26), Fact(depression=27), Fact(depression=28), Fact(depression=29)))\n",
        "    def match_with_moderate_depression(self):\n",
        "        print(\"\\nYou may have moderate depression.\")\n",
        "\n",
        "    # 30+: severe depression\n",
        "    @Rule(OR(Fact(depression=30)))\n",
        "    def match_with_severe_depression(self):\n",
        "        print(\"\\nYou may have severe depression.\")\n"
      ],
      "metadata": {
        "id": "bSzWSZ8iVdN1"
      },
      "execution_count": 85,
      "outputs": []
    },
    {
      "cell_type": "code",
      "source": [
        "engine = MoodAssessment()\n",
        "engine.reset()  \n",
        "engine.run() "
      ],
      "metadata": {
        "colab": {
          "base_uri": "https://localhost:8080/"
        },
        "id": "lZq8MPpnVdRB",
        "outputId": "56b792b5-b23c-41e0-eb8c-c40e156503a1"
      },
      "execution_count": 86,
      "outputs": [
        {
          "output_type": "stream",
          "name": "stdout",
          "text": [
            "This is an anxiety and depression self-assessment. Please answer all questions.\n",
            "\n",
            "Over the last two weeks, how often have you been bothered by the following problems?\n",
            "\n",
            "Please enter numbers only:\n",
            "Not at all = 0, Several days = 1, More than half the days = 2, Nearly every day = 3\n",
            "\n",
            "(1/19) Feeling nervous, anxious, or on edge: 1\n",
            "(2/19) Not being able to stop or control worrying: 2\n",
            "(3/19) Worrying too much about different things: 3\n",
            "(4/19) Trouble relaxing: 1\n",
            "(5/19) Being so restless that it is hard to sit still: 2\n",
            "(6/19) Becoming easily annoyed or irritable: 3\n",
            "(7/19) Feeling afraid, as if something awful might happen: 4\n",
            "\n",
            "How much of the time have you experienced the following?\n",
            "\n",
            "Please enter numbers only:\n",
            "At no time = 0, Some of the time = 1, Slightly less than half the time = 2, Slightly more than half the time = 3, Most of the time = 4, All the time = 5\n",
            "\n",
            "(8/19) Have you felt low in spirits or sad? 5\n",
            "(9/19) Have you lost interest in your daily activities? 2\n",
            "(10/19) Have you felt lacking in energy and strength? 6\n",
            "(11/19) Have you felt less self-confident? 4\n",
            "(12/19) Have you had a bad conscience or feelings of guilt? 3\n",
            "(13/19) Have you felt that life wasn't worth living? 5\n",
            "(14/19) Have you had difficulty concentrating, e.g. when reading the newspaper or watching television? 3\n",
            "(15/19) Have you felt very restless? 4\n",
            "(16/19) Have you felt subdued or slowed down? 3\n",
            "(17/19) Have you had trouble sleeping at night? 5\n",
            "(18/19) Have you suffered from reduced appetite? 2\n",
            "(19/19) Have you suffered from increased appetite? 5\n",
            "\n",
            "You may have severe depression.\n",
            "\n",
            "You may have severe anxiety.\n"
          ]
        }
      ]
    }
  ]
}