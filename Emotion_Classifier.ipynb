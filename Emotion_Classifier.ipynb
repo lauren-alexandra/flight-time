{
  "cells": [
    {
      "cell_type": "markdown",
      "metadata": {
        "id": "4ljrXbm43CuG"
      },
      "source": [
        "## Emotion Classifier\n",
        "\n",
        "A neural network-based classifier that identifies emotion in text limited to six basic emotions: anger, fear, joy, love, sadness, and surprise. "
      ]
    },
    {
      "cell_type": "markdown",
      "metadata": {
        "id": "Ilr-y66cDLn7"
      },
      "source": [
        "Dataset: \n",
        "https://github.com/dair-ai/emotion_dataset \n",
        "\n",
        "Data has been largely preprocessed already, using technique from this paper: https://www.aclweb.org/anthology/D18-1404/\n",
        "\n",
        "Data dictionary:\n",
        "\n",
        "- text: string \n",
        "- emotions: class label"
      ]
    },
    {
      "cell_type": "code",
      "execution_count": 205,
      "metadata": {
        "id": "sVldaTET0SxD"
      },
      "outputs": [],
      "source": [
        "import warnings\n",
        "warnings.filterwarnings('ignore')\n",
        "\n",
        "import pandas as pd\n",
        "#import numpy as np \n",
        "\n",
        "from sklearn import preprocessing\n",
        "from sklearn.model_selection import train_test_split\n",
        "\n",
        "import tensorflow as tf\n",
        "from tensorflow.data import Dataset\n",
        "#from tensorflow.keras import utils, losses, optimizers, Input\n",
        "from tensorflow.keras import losses\n",
        "#from tensorflow.keras.layers import Dense, Dropout, GlobalMaxPooling1D, Conv1D, Embedding, Flatten, TextVectorization, LSTM, Bidirectional, Activation\n",
        "from tensorflow.keras.layers import Dense, TextVectorization, Activation\n",
        "from tensorflow.keras.models import Sequential"
      ]
    },
    {
      "cell_type": "markdown",
      "metadata": {
        "id": "Oyjp5QJs0SxK"
      },
      "source": [
        "### Load and read the data"
      ]
    },
    {
      "cell_type": "code",
      "source": [
        "!wget https://www.dropbox.com/s/ikkqxfdbdec3fuj/test.txt\n",
        "!wget https://www.dropbox.com/s/1pzkadrvffbqw6o/train.txt\n",
        "!wget https://www.dropbox.com/s/2mzialpsgf9k5l3/val.txt"
      ],
      "metadata": {
        "colab": {
          "base_uri": "https://localhost:8080/"
        },
        "id": "ggrJkZXs5qTI",
        "outputId": "77e9471c-4e83-4242-ff7e-dd63e60d3fee"
      },
      "execution_count": 206,
      "outputs": [
        {
          "output_type": "stream",
          "name": "stdout",
          "text": [
            "--2022-01-03 02:39:10--  https://www.dropbox.com/s/ikkqxfdbdec3fuj/test.txt\n",
            "Resolving www.dropbox.com (www.dropbox.com)... 162.125.2.18, 2620:100:6017:18::a27d:212\n",
            "Connecting to www.dropbox.com (www.dropbox.com)|162.125.2.18|:443... connected.\n",
            "HTTP request sent, awaiting response... 301 Moved Permanently\n",
            "Location: /s/raw/ikkqxfdbdec3fuj/test.txt [following]\n",
            "--2022-01-03 02:39:10--  https://www.dropbox.com/s/raw/ikkqxfdbdec3fuj/test.txt\n",
            "Reusing existing connection to www.dropbox.com:443.\n",
            "HTTP request sent, awaiting response... 302 Found\n",
            "Location: https://uc78ffa455ac780cfe6e68249a20.dl.dropboxusercontent.com/cd/0/inline/BdAl33fj72_-CqnFVUxlmeT8ZZTMwqj-BY91oFZwOtIF0GBH2L2bJ80nVyhaQp7sAYPz9u5_r3ARg08UJoAuqpZM4E7l7LONnYkFS4Gg3pLDn07A_Z1LSbgwgxFP1LbXTyUPWjP0ln-auLe5VEDfpWRV/file# [following]\n",
            "--2022-01-03 02:39:11--  https://uc78ffa455ac780cfe6e68249a20.dl.dropboxusercontent.com/cd/0/inline/BdAl33fj72_-CqnFVUxlmeT8ZZTMwqj-BY91oFZwOtIF0GBH2L2bJ80nVyhaQp7sAYPz9u5_r3ARg08UJoAuqpZM4E7l7LONnYkFS4Gg3pLDn07A_Z1LSbgwgxFP1LbXTyUPWjP0ln-auLe5VEDfpWRV/file\n",
            "Resolving uc78ffa455ac780cfe6e68249a20.dl.dropboxusercontent.com (uc78ffa455ac780cfe6e68249a20.dl.dropboxusercontent.com)... 162.125.2.15, 2620:100:6017:15::a27d:20f\n",
            "Connecting to uc78ffa455ac780cfe6e68249a20.dl.dropboxusercontent.com (uc78ffa455ac780cfe6e68249a20.dl.dropboxusercontent.com)|162.125.2.15|:443... connected.\n",
            "HTTP request sent, awaiting response... 200 OK\n",
            "Length: 206760 (202K) [text/plain]\n",
            "Saving to: ‘test.txt’\n",
            "\n",
            "test.txt            100%[===================>] 201.91K  --.-KB/s    in 0.1s    \n",
            "\n",
            "2022-01-03 02:39:11 (1.83 MB/s) - ‘test.txt’ saved [206760/206760]\n",
            "\n",
            "--2022-01-03 02:39:11--  https://www.dropbox.com/s/1pzkadrvffbqw6o/train.txt\n",
            "Resolving www.dropbox.com (www.dropbox.com)... 162.125.2.18, 2620:100:6017:18::a27d:212\n",
            "Connecting to www.dropbox.com (www.dropbox.com)|162.125.2.18|:443... connected.\n",
            "HTTP request sent, awaiting response... 301 Moved Permanently\n",
            "Location: /s/raw/1pzkadrvffbqw6o/train.txt [following]\n",
            "--2022-01-03 02:39:11--  https://www.dropbox.com/s/raw/1pzkadrvffbqw6o/train.txt\n",
            "Reusing existing connection to www.dropbox.com:443.\n",
            "HTTP request sent, awaiting response... 302 Found\n",
            "Location: https://uc51e2b2f07504bd20ccb5363d98.dl.dropboxusercontent.com/cd/0/inline/BdDcIXSTalB6-5ebyf4dXM1gC0jrQ-HYFnZ8aimspkKNzY1FFED7AGrT61ggcJ8HCtu2Dy13sy7X24iWQabFjDcoWy0-hXo5hlNluOWhycOdF6ZdwWblvI2RmqM0-nnUqzb94x2m1Z0-SRP0H5YTrtBT/file# [following]\n",
            "--2022-01-03 02:39:12--  https://uc51e2b2f07504bd20ccb5363d98.dl.dropboxusercontent.com/cd/0/inline/BdDcIXSTalB6-5ebyf4dXM1gC0jrQ-HYFnZ8aimspkKNzY1FFED7AGrT61ggcJ8HCtu2Dy13sy7X24iWQabFjDcoWy0-hXo5hlNluOWhycOdF6ZdwWblvI2RmqM0-nnUqzb94x2m1Z0-SRP0H5YTrtBT/file\n",
            "Resolving uc51e2b2f07504bd20ccb5363d98.dl.dropboxusercontent.com (uc51e2b2f07504bd20ccb5363d98.dl.dropboxusercontent.com)... 162.125.2.15, 2620:100:6022:15::a27d:420f\n",
            "Connecting to uc51e2b2f07504bd20ccb5363d98.dl.dropboxusercontent.com (uc51e2b2f07504bd20ccb5363d98.dl.dropboxusercontent.com)|162.125.2.15|:443... connected.\n",
            "HTTP request sent, awaiting response... 200 OK\n",
            "Length: 1658616 (1.6M) [text/plain]\n",
            "Saving to: ‘train.txt’\n",
            "\n",
            "train.txt           100%[===================>]   1.58M  10.4MB/s    in 0.2s    \n",
            "\n",
            "2022-01-03 02:39:12 (10.4 MB/s) - ‘train.txt’ saved [1658616/1658616]\n",
            "\n",
            "--2022-01-03 02:39:12--  https://www.dropbox.com/s/2mzialpsgf9k5l3/val.txt\n",
            "Resolving www.dropbox.com (www.dropbox.com)... 162.125.2.18, 2620:100:6017:18::a27d:212\n",
            "Connecting to www.dropbox.com (www.dropbox.com)|162.125.2.18|:443... connected.\n",
            "HTTP request sent, awaiting response... 301 Moved Permanently\n",
            "Location: /s/raw/2mzialpsgf9k5l3/val.txt [following]\n",
            "--2022-01-03 02:39:12--  https://www.dropbox.com/s/raw/2mzialpsgf9k5l3/val.txt\n",
            "Reusing existing connection to www.dropbox.com:443.\n",
            "HTTP request sent, awaiting response... 302 Found\n",
            "Location: https://ucff296d1f08d06a90c7cbf64718.dl.dropboxusercontent.com/cd/0/inline/BdBQPomZQPjkG35sf8rKCQQgWC1xz9OYEkgvLMCKYqd9Ph_wynqXsMNMhL7UB-HuX3TdaztmCbu32mAIW9UyB-fASaLn_idr0ZXqtiNvptLpFuC_rT6-JqVzIBZtcHSlgPfBGF0SyoZ1_OGEnwrvchZC/file# [following]\n",
            "--2022-01-03 02:39:12--  https://ucff296d1f08d06a90c7cbf64718.dl.dropboxusercontent.com/cd/0/inline/BdBQPomZQPjkG35sf8rKCQQgWC1xz9OYEkgvLMCKYqd9Ph_wynqXsMNMhL7UB-HuX3TdaztmCbu32mAIW9UyB-fASaLn_idr0ZXqtiNvptLpFuC_rT6-JqVzIBZtcHSlgPfBGF0SyoZ1_OGEnwrvchZC/file\n",
            "Resolving ucff296d1f08d06a90c7cbf64718.dl.dropboxusercontent.com (ucff296d1f08d06a90c7cbf64718.dl.dropboxusercontent.com)... 162.125.4.15, 2620:100:6017:15::a27d:20f\n",
            "Connecting to ucff296d1f08d06a90c7cbf64718.dl.dropboxusercontent.com (ucff296d1f08d06a90c7cbf64718.dl.dropboxusercontent.com)|162.125.4.15|:443... connected.\n",
            "HTTP request sent, awaiting response... 200 OK\n",
            "Length: 204240 (199K) [text/plain]\n",
            "Saving to: ‘val.txt’\n",
            "\n",
            "val.txt             100%[===================>] 199.45K   862KB/s    in 0.2s    \n",
            "\n",
            "2022-01-03 02:39:13 (862 KB/s) - ‘val.txt’ saved [204240/204240]\n",
            "\n"
          ]
        }
      ]
    },
    {
      "cell_type": "code",
      "source": [
        "!mkdir emotion_data\n",
        "!mv *.txt emotion_data"
      ],
      "metadata": {
        "colab": {
          "base_uri": "https://localhost:8080/"
        },
        "id": "Z-baN86xbTTJ",
        "outputId": "b4628f90-6bd9-495f-85bc-28e8f151c7d9"
      },
      "execution_count": 207,
      "outputs": [
        {
          "output_type": "stream",
          "name": "stdout",
          "text": [
            "mkdir: cannot create directory ‘emotion_data’: File exists\n"
          ]
        }
      ]
    },
    {
      "cell_type": "code",
      "source": [
        "train_path = \"emotion_data/train.txt\"\n",
        "test_path = \"emotion_data/test.txt\"\n",
        "val_path = \"emotion_data/val.txt\""
      ],
      "metadata": {
        "id": "SQxUH0y1bUYZ"
      },
      "execution_count": 208,
      "outputs": []
    },
    {
      "cell_type": "code",
      "source": [
        "data = pd.read_csv(train_path, sep=\";\", header=None, names=['text', 'emotion'],\n",
        "                               engine=\"python\")\n",
        "data.emotion.unique()"
      ],
      "metadata": {
        "colab": {
          "base_uri": "https://localhost:8080/"
        },
        "id": "2ydFy4d0baQJ",
        "outputId": "f21b79b2-fd64-4515-c822-c40d3474a07c"
      },
      "execution_count": 209,
      "outputs": [
        {
          "output_type": "execute_result",
          "data": {
            "text/plain": [
              "array(['sadness', 'anger', 'love', 'surprise', 'fear', 'joy'],\n",
              "      dtype=object)"
            ]
          },
          "metadata": {},
          "execution_count": 209
        }
      ]
    },
    {
      "cell_type": "code",
      "source": [
        "data.head()"
      ],
      "metadata": {
        "colab": {
          "base_uri": "https://localhost:8080/",
          "height": 206
        },
        "id": "yW7ZnD71bm5L",
        "outputId": "09ff485c-04e5-4943-a0d4-7991bfab2a31"
      },
      "execution_count": 210,
      "outputs": [
        {
          "output_type": "execute_result",
          "data": {
            "text/html": [
              "\n",
              "  <div id=\"df-4b2ee2fa-e286-47a8-a4cd-3ba2cef4ae85\">\n",
              "    <div class=\"colab-df-container\">\n",
              "      <div>\n",
              "<style scoped>\n",
              "    .dataframe tbody tr th:only-of-type {\n",
              "        vertical-align: middle;\n",
              "    }\n",
              "\n",
              "    .dataframe tbody tr th {\n",
              "        vertical-align: top;\n",
              "    }\n",
              "\n",
              "    .dataframe thead th {\n",
              "        text-align: right;\n",
              "    }\n",
              "</style>\n",
              "<table border=\"1\" class=\"dataframe\">\n",
              "  <thead>\n",
              "    <tr style=\"text-align: right;\">\n",
              "      <th></th>\n",
              "      <th>text</th>\n",
              "      <th>emotion</th>\n",
              "    </tr>\n",
              "  </thead>\n",
              "  <tbody>\n",
              "    <tr>\n",
              "      <th>0</th>\n",
              "      <td>i didnt feel humiliated</td>\n",
              "      <td>sadness</td>\n",
              "    </tr>\n",
              "    <tr>\n",
              "      <th>1</th>\n",
              "      <td>i can go from feeling so hopeless to so damned...</td>\n",
              "      <td>sadness</td>\n",
              "    </tr>\n",
              "    <tr>\n",
              "      <th>2</th>\n",
              "      <td>im grabbing a minute to post i feel greedy wrong</td>\n",
              "      <td>anger</td>\n",
              "    </tr>\n",
              "    <tr>\n",
              "      <th>3</th>\n",
              "      <td>i am ever feeling nostalgic about the fireplac...</td>\n",
              "      <td>love</td>\n",
              "    </tr>\n",
              "    <tr>\n",
              "      <th>4</th>\n",
              "      <td>i am feeling grouchy</td>\n",
              "      <td>anger</td>\n",
              "    </tr>\n",
              "  </tbody>\n",
              "</table>\n",
              "</div>\n",
              "      <button class=\"colab-df-convert\" onclick=\"convertToInteractive('df-4b2ee2fa-e286-47a8-a4cd-3ba2cef4ae85')\"\n",
              "              title=\"Convert this dataframe to an interactive table.\"\n",
              "              style=\"display:none;\">\n",
              "        \n",
              "  <svg xmlns=\"http://www.w3.org/2000/svg\" height=\"24px\"viewBox=\"0 0 24 24\"\n",
              "       width=\"24px\">\n",
              "    <path d=\"M0 0h24v24H0V0z\" fill=\"none\"/>\n",
              "    <path d=\"M18.56 5.44l.94 2.06.94-2.06 2.06-.94-2.06-.94-.94-2.06-.94 2.06-2.06.94zm-11 1L8.5 8.5l.94-2.06 2.06-.94-2.06-.94L8.5 2.5l-.94 2.06-2.06.94zm10 10l.94 2.06.94-2.06 2.06-.94-2.06-.94-.94-2.06-.94 2.06-2.06.94z\"/><path d=\"M17.41 7.96l-1.37-1.37c-.4-.4-.92-.59-1.43-.59-.52 0-1.04.2-1.43.59L10.3 9.45l-7.72 7.72c-.78.78-.78 2.05 0 2.83L4 21.41c.39.39.9.59 1.41.59.51 0 1.02-.2 1.41-.59l7.78-7.78 2.81-2.81c.8-.78.8-2.07 0-2.86zM5.41 20L4 18.59l7.72-7.72 1.47 1.35L5.41 20z\"/>\n",
              "  </svg>\n",
              "      </button>\n",
              "      \n",
              "  <style>\n",
              "    .colab-df-container {\n",
              "      display:flex;\n",
              "      flex-wrap:wrap;\n",
              "      gap: 12px;\n",
              "    }\n",
              "\n",
              "    .colab-df-convert {\n",
              "      background-color: #E8F0FE;\n",
              "      border: none;\n",
              "      border-radius: 50%;\n",
              "      cursor: pointer;\n",
              "      display: none;\n",
              "      fill: #1967D2;\n",
              "      height: 32px;\n",
              "      padding: 0 0 0 0;\n",
              "      width: 32px;\n",
              "    }\n",
              "\n",
              "    .colab-df-convert:hover {\n",
              "      background-color: #E2EBFA;\n",
              "      box-shadow: 0px 1px 2px rgba(60, 64, 67, 0.3), 0px 1px 3px 1px rgba(60, 64, 67, 0.15);\n",
              "      fill: #174EA6;\n",
              "    }\n",
              "\n",
              "    [theme=dark] .colab-df-convert {\n",
              "      background-color: #3B4455;\n",
              "      fill: #D2E3FC;\n",
              "    }\n",
              "\n",
              "    [theme=dark] .colab-df-convert:hover {\n",
              "      background-color: #434B5C;\n",
              "      box-shadow: 0px 1px 3px 1px rgba(0, 0, 0, 0.15);\n",
              "      filter: drop-shadow(0px 1px 2px rgba(0, 0, 0, 0.3));\n",
              "      fill: #FFFFFF;\n",
              "    }\n",
              "  </style>\n",
              "\n",
              "      <script>\n",
              "        const buttonEl =\n",
              "          document.querySelector('#df-4b2ee2fa-e286-47a8-a4cd-3ba2cef4ae85 button.colab-df-convert');\n",
              "        buttonEl.style.display =\n",
              "          google.colab.kernel.accessAllowed ? 'block' : 'none';\n",
              "\n",
              "        async function convertToInteractive(key) {\n",
              "          const element = document.querySelector('#df-4b2ee2fa-e286-47a8-a4cd-3ba2cef4ae85');\n",
              "          const dataTable =\n",
              "            await google.colab.kernel.invokeFunction('convertToInteractive',\n",
              "                                                     [key], {});\n",
              "          if (!dataTable) return;\n",
              "\n",
              "          const docLinkHtml = 'Like what you see? Visit the ' +\n",
              "            '<a target=\"_blank\" href=https://colab.research.google.com/notebooks/data_table.ipynb>data table notebook</a>'\n",
              "            + ' to learn more about interactive tables.';\n",
              "          element.innerHTML = '';\n",
              "          dataTable['output_type'] = 'display_data';\n",
              "          await google.colab.output.renderOutput(dataTable, element);\n",
              "          const docLink = document.createElement('div');\n",
              "          docLink.innerHTML = docLinkHtml;\n",
              "          element.appendChild(docLink);\n",
              "        }\n",
              "      </script>\n",
              "    </div>\n",
              "  </div>\n",
              "  "
            ],
            "text/plain": [
              "                                                text  emotion\n",
              "0                            i didnt feel humiliated  sadness\n",
              "1  i can go from feeling so hopeless to so damned...  sadness\n",
              "2   im grabbing a minute to post i feel greedy wrong    anger\n",
              "3  i am ever feeling nostalgic about the fireplac...     love\n",
              "4                               i am feeling grouchy    anger"
            ]
          },
          "metadata": {},
          "execution_count": 210
        }
      ]
    },
    {
      "cell_type": "code",
      "source": [
        "data.count()"
      ],
      "metadata": {
        "colab": {
          "base_uri": "https://localhost:8080/"
        },
        "id": "DY16iGmyb_W8",
        "outputId": "a67f9099-8e08-4ae1-9bbe-b50fc427fe44"
      },
      "execution_count": 211,
      "outputs": [
        {
          "output_type": "execute_result",
          "data": {
            "text/plain": [
              "text       16000\n",
              "emotion    16000\n",
              "dtype: int64"
            ]
          },
          "metadata": {},
          "execution_count": 211
        }
      ]
    },
    {
      "cell_type": "code",
      "source": [
        "# label_encoder object knows how to understand word labels.\n",
        "label_encoder = preprocessing.LabelEncoder()\n",
        " \n",
        "# Encode labels in column 'emotion'.\n",
        "data['emotion']= label_encoder.fit_transform(data['emotion'])\n",
        " \n",
        "data['emotion'].unique()"
      ],
      "metadata": {
        "colab": {
          "base_uri": "https://localhost:8080/"
        },
        "id": "yyJV3fyMcwkO",
        "outputId": "65184954-f0bc-44b5-e9bb-1fa6693fdb7e"
      },
      "execution_count": 214,
      "outputs": [
        {
          "output_type": "execute_result",
          "data": {
            "text/plain": [
              "array([4, 0, 3, 5, 1, 2])"
            ]
          },
          "metadata": {},
          "execution_count": 214
        }
      ]
    },
    {
      "cell_type": "code",
      "source": [
        "text = data.text\n",
        "labels = data.emotion\n",
        "data.head()"
      ],
      "metadata": {
        "colab": {
          "base_uri": "https://localhost:8080/",
          "height": 206
        },
        "id": "Tu3P6XBNcwrW",
        "outputId": "22117eb6-cae6-4fe5-d980-00b5085e431a"
      },
      "execution_count": 215,
      "outputs": [
        {
          "output_type": "execute_result",
          "data": {
            "text/html": [
              "\n",
              "  <div id=\"df-977c7cde-f5cd-4374-9c4b-99b6e16c56d6\">\n",
              "    <div class=\"colab-df-container\">\n",
              "      <div>\n",
              "<style scoped>\n",
              "    .dataframe tbody tr th:only-of-type {\n",
              "        vertical-align: middle;\n",
              "    }\n",
              "\n",
              "    .dataframe tbody tr th {\n",
              "        vertical-align: top;\n",
              "    }\n",
              "\n",
              "    .dataframe thead th {\n",
              "        text-align: right;\n",
              "    }\n",
              "</style>\n",
              "<table border=\"1\" class=\"dataframe\">\n",
              "  <thead>\n",
              "    <tr style=\"text-align: right;\">\n",
              "      <th></th>\n",
              "      <th>text</th>\n",
              "      <th>emotion</th>\n",
              "    </tr>\n",
              "  </thead>\n",
              "  <tbody>\n",
              "    <tr>\n",
              "      <th>0</th>\n",
              "      <td>i didnt feel humiliated</td>\n",
              "      <td>4</td>\n",
              "    </tr>\n",
              "    <tr>\n",
              "      <th>1</th>\n",
              "      <td>i can go from feeling so hopeless to so damned...</td>\n",
              "      <td>4</td>\n",
              "    </tr>\n",
              "    <tr>\n",
              "      <th>2</th>\n",
              "      <td>im grabbing a minute to post i feel greedy wrong</td>\n",
              "      <td>0</td>\n",
              "    </tr>\n",
              "    <tr>\n",
              "      <th>3</th>\n",
              "      <td>i am ever feeling nostalgic about the fireplac...</td>\n",
              "      <td>3</td>\n",
              "    </tr>\n",
              "    <tr>\n",
              "      <th>4</th>\n",
              "      <td>i am feeling grouchy</td>\n",
              "      <td>0</td>\n",
              "    </tr>\n",
              "  </tbody>\n",
              "</table>\n",
              "</div>\n",
              "      <button class=\"colab-df-convert\" onclick=\"convertToInteractive('df-977c7cde-f5cd-4374-9c4b-99b6e16c56d6')\"\n",
              "              title=\"Convert this dataframe to an interactive table.\"\n",
              "              style=\"display:none;\">\n",
              "        \n",
              "  <svg xmlns=\"http://www.w3.org/2000/svg\" height=\"24px\"viewBox=\"0 0 24 24\"\n",
              "       width=\"24px\">\n",
              "    <path d=\"M0 0h24v24H0V0z\" fill=\"none\"/>\n",
              "    <path d=\"M18.56 5.44l.94 2.06.94-2.06 2.06-.94-2.06-.94-.94-2.06-.94 2.06-2.06.94zm-11 1L8.5 8.5l.94-2.06 2.06-.94-2.06-.94L8.5 2.5l-.94 2.06-2.06.94zm10 10l.94 2.06.94-2.06 2.06-.94-2.06-.94-.94-2.06-.94 2.06-2.06.94z\"/><path d=\"M17.41 7.96l-1.37-1.37c-.4-.4-.92-.59-1.43-.59-.52 0-1.04.2-1.43.59L10.3 9.45l-7.72 7.72c-.78.78-.78 2.05 0 2.83L4 21.41c.39.39.9.59 1.41.59.51 0 1.02-.2 1.41-.59l7.78-7.78 2.81-2.81c.8-.78.8-2.07 0-2.86zM5.41 20L4 18.59l7.72-7.72 1.47 1.35L5.41 20z\"/>\n",
              "  </svg>\n",
              "      </button>\n",
              "      \n",
              "  <style>\n",
              "    .colab-df-container {\n",
              "      display:flex;\n",
              "      flex-wrap:wrap;\n",
              "      gap: 12px;\n",
              "    }\n",
              "\n",
              "    .colab-df-convert {\n",
              "      background-color: #E8F0FE;\n",
              "      border: none;\n",
              "      border-radius: 50%;\n",
              "      cursor: pointer;\n",
              "      display: none;\n",
              "      fill: #1967D2;\n",
              "      height: 32px;\n",
              "      padding: 0 0 0 0;\n",
              "      width: 32px;\n",
              "    }\n",
              "\n",
              "    .colab-df-convert:hover {\n",
              "      background-color: #E2EBFA;\n",
              "      box-shadow: 0px 1px 2px rgba(60, 64, 67, 0.3), 0px 1px 3px 1px rgba(60, 64, 67, 0.15);\n",
              "      fill: #174EA6;\n",
              "    }\n",
              "\n",
              "    [theme=dark] .colab-df-convert {\n",
              "      background-color: #3B4455;\n",
              "      fill: #D2E3FC;\n",
              "    }\n",
              "\n",
              "    [theme=dark] .colab-df-convert:hover {\n",
              "      background-color: #434B5C;\n",
              "      box-shadow: 0px 1px 3px 1px rgba(0, 0, 0, 0.15);\n",
              "      filter: drop-shadow(0px 1px 2px rgba(0, 0, 0, 0.3));\n",
              "      fill: #FFFFFF;\n",
              "    }\n",
              "  </style>\n",
              "\n",
              "      <script>\n",
              "        const buttonEl =\n",
              "          document.querySelector('#df-977c7cde-f5cd-4374-9c4b-99b6e16c56d6 button.colab-df-convert');\n",
              "        buttonEl.style.display =\n",
              "          google.colab.kernel.accessAllowed ? 'block' : 'none';\n",
              "\n",
              "        async function convertToInteractive(key) {\n",
              "          const element = document.querySelector('#df-977c7cde-f5cd-4374-9c4b-99b6e16c56d6');\n",
              "          const dataTable =\n",
              "            await google.colab.kernel.invokeFunction('convertToInteractive',\n",
              "                                                     [key], {});\n",
              "          if (!dataTable) return;\n",
              "\n",
              "          const docLinkHtml = 'Like what you see? Visit the ' +\n",
              "            '<a target=\"_blank\" href=https://colab.research.google.com/notebooks/data_table.ipynb>data table notebook</a>'\n",
              "            + ' to learn more about interactive tables.';\n",
              "          element.innerHTML = '';\n",
              "          dataTable['output_type'] = 'display_data';\n",
              "          await google.colab.output.renderOutput(dataTable, element);\n",
              "          const docLink = document.createElement('div');\n",
              "          docLink.innerHTML = docLinkHtml;\n",
              "          element.appendChild(docLink);\n",
              "        }\n",
              "      </script>\n",
              "    </div>\n",
              "  </div>\n",
              "  "
            ],
            "text/plain": [
              "                                                text  emotion\n",
              "0                            i didnt feel humiliated        4\n",
              "1  i can go from feeling so hopeless to so damned...        4\n",
              "2   im grabbing a minute to post i feel greedy wrong        0\n",
              "3  i am ever feeling nostalgic about the fireplac...        3\n",
              "4                               i am feeling grouchy        0"
            ]
          },
          "metadata": {},
          "execution_count": 215
        }
      ]
    },
    {
      "cell_type": "markdown",
      "metadata": {
        "id": "WSQ05aSo0Sxq"
      },
      "source": [
        "### Data Split"
      ]
    },
    {
      "cell_type": "code",
      "source": [
        "SEED = 100"
      ],
      "metadata": {
        "id": "UqTcBMKUdfYx"
      },
      "execution_count": 216,
      "outputs": []
    },
    {
      "cell_type": "code",
      "execution_count": 217,
      "metadata": {
        "id": "YzuGh68_0Sxr",
        "outputId": "252bee59-9556-4bdb-d9cf-4010edfa20f7",
        "colab": {
          "base_uri": "https://localhost:8080/"
        }
      },
      "outputs": [
        {
          "output_type": "stream",
          "name": "stdout",
          "text": [
            "(12800,)\n",
            "(1600,)\n",
            "(12800,)\n",
            "(1600,)\n",
            "(1600,)\n",
            "(1600,)\n"
          ]
        }
      ],
      "source": [
        "X = data['text']\n",
        "labels = data['emotion']\n",
        "\n",
        "# create training and validation sets with 80-20 split\n",
        "X_train, X_validation, y_train, y_validation = train_test_split(X, labels, test_size=0.2, random_state = SEED)\n",
        "\n",
        "# split the validation sets to get a holdout dataset (for testing) 50-50 split\n",
        "X_validation, X_test, y_validation, y_test = train_test_split(X_validation, y_validation, test_size=0.5, random_state = SEED)\n",
        "\n",
        "print(X_train.shape)\n",
        "print(X_validation.shape)\n",
        "print(y_train.shape)\n",
        "print(y_validation.shape)\n",
        "print(X_test.shape)\n",
        "print(y_test.shape)"
      ]
    },
    {
      "cell_type": "markdown",
      "source": [
        "### Prepare data for training"
      ],
      "metadata": {
        "id": "_uiO3O7Tr7CB"
      }
    },
    {
      "cell_type": "code",
      "source": [
        "\"\"\"\n",
        "If you want to apply tf.data transformations to a DataFrame of a uniform dtype, the Dataset.from_tensor_slices method will create a dataset \n",
        "that iterates over the rows of the DataFrame. \n",
        "Each row is initially a vector of values. \n",
        "To train a model, you need (inputs, labels) pairs.\n",
        "tf.data.Dataset.from_tensor_slices\n",
        "\"\"\"\n",
        "\n",
        "AUTOTUNE = tf.data.AUTOTUNE\n",
        "BATCH_SIZE = 32\n",
        "BUFFER_SIZE = 2000\n",
        "\n",
        "# train dataset\n",
        "train_numeric_ds = Dataset.from_tensor_slices((X_train, y_train))\n",
        "\n",
        "# in tensorflow it is expected that you pass batches. tf.keras models are optimized to make predictions on a batch, or collection, of examples at once. \n",
        "# in this case, batches of (text, emotion) pairs\n",
        "# also shuffle the data for training \n",
        "# prefetch overlaps data preprocessing and model execution while training\n",
        "train_numeric_ds = train_numeric_ds.batch(BATCH_SIZE).shuffle(BUFFER_SIZE).prefetch(AUTOTUNE)\n",
        "\n",
        "# val dataset\n",
        "val_numeric_ds = Dataset.from_tensor_slices((X_validation, y_validation))\n",
        "val_numeric_ds = val_numeric_ds.batch(BATCH_SIZE).shuffle(BUFFER_SIZE).prefetch(AUTOTUNE)\n",
        "\n",
        "# test dataset \n",
        "test_numeric_ds = Dataset.from_tensor_slices((X_test, y_test))\n",
        "test_numeric_ds = test_numeric_ds.batch(BATCH_SIZE).shuffle(BUFFER_SIZE).prefetch(AUTOTUNE)\n",
        "\n",
        "print(train_numeric_ds.element_spec)\n",
        "\n",
        "for text, emotion in train_numeric_ds.take(1):\n",
        "    print(\"Sentence: \", text.numpy())\n",
        "    print(\"Label:\", emotion.numpy())"
      ],
      "metadata": {
        "colab": {
          "base_uri": "https://localhost:8080/"
        },
        "id": "RrP8IeMULn7k",
        "outputId": "08c55dd0-a0f3-4a1a-8497-d365cf621ab6"
      },
      "execution_count": 218,
      "outputs": [
        {
          "output_type": "stream",
          "name": "stdout",
          "text": [
            "(TensorSpec(shape=(None,), dtype=tf.string, name=None), TensorSpec(shape=(None,), dtype=tf.int64, name=None))\n",
            "Sentence:  [b'i feel like if you get something really cool you could easily turn it into a finished piece but that s kind of up to what you get out of the two hours'\n",
            " b'i know when i have had a crappy day and didn t feel productive i feel lousy and sleepy in the evening'\n",
            " b'i am not holding in my anger but i am holding it back so that i can still choose with a clearer mind and can feel it without executing someone for something petty'\n",
            " b'i feel like i liked it but at the same time i feel let down'\n",
            " b'i feel jealous with them why they can'\n",
            " b'i feel thats a valuable piece of consumer knowledge and one item of many ive added to my good to know stores'\n",
            " b'i didn t think that it would come that fast or would come at all but i suppose it is because i feel cranky today'\n",
            " b'i feel so honored to know all of you'\n",
            " b'i feel tortured every moment and theres nowhere i can go to get away from it or to get back to what i was used to'\n",
            " b'i do know that the stresses from this past week sensory overload oh and i have not been sleeping well are all contributing to my stoic type of feel however i am rather jolly and do not feel like i am in an icky mood at all'\n",
            " b'i feel writing to sell to pander to popular taste just to make money is a sucker s game'\n",
            " b'ive struggled with feeling inadequate or subpar in various areas of my life and i know i always will'\n",
            " b'i want to feel all year long that lovely warm tingle that october brings'\n",
            " b'i feel about this band perhaps i m too distracted by the hardcore dancers flailing around'\n",
            " b'i think that s how our materialist friends feel when they hear the term intelligent design'\n",
            " b'i got the feeling he respected my choice making my way on my own answering to nobody but myself'\n",
            " b'i just feel for my hubbie all this rubbish is really starting to knock his confidence in the people hes supposed to be trusting his heart to'\n",
            " b'i feel like making this a stubborn battle of wills'\n",
            " b'i wonder how many people are against my do it only when you feel like it perspective but i think if you do it for the sake of doing it without wanting to do it then it will turn out to be the result of crappy work'\n",
            " b'when my application for studying the masters degree was accepted'\n",
            " b'i must say that im not feeling gloomy at all about this place'\n",
            " b'i could see that when i am angry with my coworker i am also in a moment where i do not trust the other person s intentions i do not feel respected or appreciated by that person'\n",
            " b'i would give up feeling fucked to feel neutral'\n",
            " b'i not feeling as melancholy as i was the other day'\n",
            " b'i like to think true beauty comes from the inside and that im loved for who i am on the inside but i definitely feel less valued and loved when i look like this'\n",
            " b'ive been feeling so restless at home these days probably because i had been cooped up at school and home for way too long'\n",
            " b'i feel still very honoured and i am deeply thankful that i was granted this opportunity'\n",
            " b'im choosing to feel bad and should stop is absolutely ludicrous'\n",
            " b'i started feeling intimidated by the thought'\n",
            " b'i feel honoured to be teamed with jim whom i first met about ten years ago'\n",
            " b'i feel a little bit frightened of islam'\n",
            " b'i can t put a finger on what is making me feel exceedingly irritable and unsettled']\n",
            "Label: [2 2 0 3 0 2 0 2 0 2 2 4 3 0 2 2 2 0 4 2 4 2 0 4 2 1 2 4 1 2 1 0]\n"
          ]
        }
      ]
    },
    {
      "cell_type": "markdown",
      "source": [
        "### Vectorize"
      ],
      "metadata": {
        "id": "nj4oAkaIzq0s"
      }
    },
    {
      "cell_type": "code",
      "source": [
        "VOCAB_SIZE = 1000\n",
        "\n",
        "binary_vectorize_layer = TextVectorization(\n",
        "    max_tokens=VOCAB_SIZE,\n",
        "    output_mode='binary')\n",
        "\n",
        "binary_vectorize_layer.adapt(train_numeric_ds.map(lambda text, labels: text))"
      ],
      "metadata": {
        "id": "hZvn3m9GSw3U"
      },
      "execution_count": 219,
      "outputs": []
    },
    {
      "cell_type": "code",
      "source": [
        "def binary_vectorize_text(text, label):\n",
        "  text = tf.expand_dims(text, -1)\n",
        "  return binary_vectorize_layer(text), label"
      ],
      "metadata": {
        "id": "ag-of0XCewms"
      },
      "execution_count": 220,
      "outputs": []
    },
    {
      "cell_type": "code",
      "source": [
        "# apply the TextVectorization layers you created earlier to the training, validation, and test sets:\n",
        "\n",
        "binary_train_ds = train_numeric_ds.map(binary_vectorize_text)\n",
        "binary_val_ds = val_numeric_ds.map(binary_vectorize_text)\n",
        "binary_test_ds = test_numeric_ds.map(binary_vectorize_text)"
      ],
      "metadata": {
        "id": "qNeDlsw5fMdK"
      },
      "execution_count": 221,
      "outputs": []
    },
    {
      "cell_type": "markdown",
      "source": [
        "### Modelling"
      ],
      "metadata": {
        "id": "Wla7X_Vc1Blm"
      }
    },
    {
      "cell_type": "code",
      "source": [
        "binary_model = Sequential([Dense(6)]) # param passed is the number of labels + 1\n",
        "\n",
        "binary_model.compile(\n",
        "    loss=losses.SparseCategoricalCrossentropy(from_logits=True),\n",
        "    optimizer='adam',\n",
        "    metrics=['accuracy'])\n",
        "\n",
        "history = binary_model.fit(\n",
        "    binary_train_ds, validation_data=binary_val_ds, epochs=10)"
      ],
      "metadata": {
        "colab": {
          "base_uri": "https://localhost:8080/"
        },
        "id": "M503TQYOfczO",
        "outputId": "d5a177ab-fa0e-432c-9394-6f33660f277b"
      },
      "execution_count": 222,
      "outputs": [
        {
          "output_type": "stream",
          "name": "stdout",
          "text": [
            "Epoch 1/10\n",
            "400/400 [==============================] - 1s 2ms/step - loss: 1.5357 - accuracy: 0.4409 - val_loss: 1.4394 - val_accuracy: 0.5019\n",
            "Epoch 2/10\n",
            "400/400 [==============================] - 1s 2ms/step - loss: 1.3222 - accuracy: 0.5646 - val_loss: 1.2990 - val_accuracy: 0.5594\n",
            "Epoch 3/10\n",
            "400/400 [==============================] - 1s 2ms/step - loss: 1.1754 - accuracy: 0.6298 - val_loss: 1.1870 - val_accuracy: 0.6275\n",
            "Epoch 4/10\n",
            "400/400 [==============================] - 1s 2ms/step - loss: 1.0556 - accuracy: 0.7002 - val_loss: 1.0914 - val_accuracy: 0.6644\n",
            "Epoch 5/10\n",
            "400/400 [==============================] - 1s 2ms/step - loss: 0.9555 - accuracy: 0.7460 - val_loss: 1.0098 - val_accuracy: 0.7212\n",
            "Epoch 6/10\n",
            "400/400 [==============================] - 1s 2ms/step - loss: 0.8703 - accuracy: 0.7910 - val_loss: 0.9409 - val_accuracy: 0.7419\n",
            "Epoch 7/10\n",
            "400/400 [==============================] - 1s 2ms/step - loss: 0.7976 - accuracy: 0.8159 - val_loss: 0.8793 - val_accuracy: 0.7738\n",
            "Epoch 8/10\n",
            "400/400 [==============================] - 1s 2ms/step - loss: 0.7352 - accuracy: 0.8381 - val_loss: 0.8263 - val_accuracy: 0.7950\n",
            "Epoch 9/10\n",
            "400/400 [==============================] - 1s 2ms/step - loss: 0.6809 - accuracy: 0.8497 - val_loss: 0.7787 - val_accuracy: 0.7962\n",
            "Epoch 10/10\n",
            "400/400 [==============================] - 1s 2ms/step - loss: 0.6339 - accuracy: 0.8631 - val_loss: 0.7390 - val_accuracy: 0.8087\n"
          ]
        }
      ]
    },
    {
      "cell_type": "code",
      "source": [
        "print(\"Linear model on binary vectorized data:\")\n",
        "print(binary_model.summary())"
      ],
      "metadata": {
        "colab": {
          "base_uri": "https://localhost:8080/"
        },
        "id": "BQtB8jDffeOj",
        "outputId": "2307d21f-c74b-4f4e-a968-ea10c371d74e"
      },
      "execution_count": 223,
      "outputs": [
        {
          "output_type": "stream",
          "name": "stdout",
          "text": [
            "Linear model on binary vectorized data:\n",
            "Model: \"sequential_18\"\n",
            "_________________________________________________________________\n",
            " Layer (type)                Output Shape              Param #   \n",
            "=================================================================\n",
            " dense_25 (Dense)            (None, 6)                 6006      \n",
            "                                                                 \n",
            "=================================================================\n",
            "Total params: 6,006\n",
            "Trainable params: 6,006\n",
            "Non-trainable params: 0\n",
            "_________________________________________________________________\n",
            "None\n"
          ]
        }
      ]
    },
    {
      "cell_type": "code",
      "source": [
        "binary_loss, binary_accuracy = binary_model.evaluate(binary_test_ds)\n",
        "\n",
        "print(\"Binary model accuracy: {:2.2%}\".format(binary_accuracy))"
      ],
      "metadata": {
        "colab": {
          "base_uri": "https://localhost:8080/"
        },
        "id": "s0JGmSt-fsAk",
        "outputId": "cb2b5525-83c8-4500-b5b0-850034955f89"
      },
      "execution_count": 224,
      "outputs": [
        {
          "output_type": "stream",
          "name": "stdout",
          "text": [
            "50/50 [==============================] - 0s 2ms/step - loss: 0.7401 - accuracy: 0.7875\n",
            "Binary model accuracy: 78.75%\n"
          ]
        }
      ]
    },
    {
      "cell_type": "markdown",
      "source": [
        "### Model Export"
      ],
      "metadata": {
        "id": "HqU9RatckDRP"
      }
    },
    {
      "cell_type": "code",
      "source": [
        "\"\"\"\n",
        "You applied tf.keras.layers.TextVectorization to the dataset before feeding text to the model. \n",
        "\n",
        "To make the model capable of processing raw strings (for example, to simplify deploying it), you include the TextVectorization layer inside the model.\n",
        "Create a new model using the weights you have just trained:\n",
        "\"\"\"\n",
        "\n",
        "export_model = Sequential(\n",
        "    [binary_vectorize_layer, binary_model,\n",
        "     Activation('sigmoid')])\n",
        "\n",
        "export_model.compile(\n",
        "    loss=losses.SparseCategoricalCrossentropy(from_logits=False),\n",
        "    optimizer='adam',\n",
        "    metrics=['accuracy'])\n",
        "\n",
        "# Test it with `test_numeric_ds`, which yields raw strings\n",
        "loss, accuracy = export_model.evaluate(test_numeric_ds)\n",
        "print(\"Accuracy: {:2.2%}\".format(binary_accuracy))"
      ],
      "metadata": {
        "colab": {
          "base_uri": "https://localhost:8080/"
        },
        "id": "G9uNxCetfegJ",
        "outputId": "13a39786-a497-45f4-f66c-cfeff6d4f190"
      },
      "execution_count": 225,
      "outputs": [
        {
          "output_type": "stream",
          "name": "stdout",
          "text": [
            "50/50 [==============================] - 0s 1ms/step - loss: 0.7401 - accuracy: 0.7875\n",
            "Accuracy: 78.75%\n"
          ]
        }
      ]
    },
    {
      "cell_type": "code",
      "source": [
        "\"\"\"\n",
        "A function to find the label with the maximum score.\n",
        "\"\"\"\n",
        "class_values = tf.constant([0, 1, 2, 3, 4, 5])\n",
        "\n",
        "def get_string_labels(predicted_scores_batch):\n",
        "  predicted_int_labels = tf.argmax(predicted_scores_batch, axis=1)\n",
        "  predicted_labels = tf.gather(class_values, predicted_int_labels)\n",
        "  return predicted_labels"
      ],
      "metadata": {
        "id": "v9l4T3h4kHOH"
      },
      "execution_count": 226,
      "outputs": []
    },
    {
      "cell_type": "markdown",
      "metadata": {
        "id": "FRI55TFv0Sxy"
      },
      "source": [
        "### Run inference on new data"
      ]
    },
    {
      "cell_type": "code",
      "source": [
        "EMOTIONS = {\n",
        "    0: 'anger',\n",
        "    1: 'fear',\n",
        "    2: 'joy',\n",
        "    3: 'love',\n",
        "    4: 'sadness',\n",
        "    5: 'surprise' \n",
        "}"
      ],
      "metadata": {
        "id": "E14JeAtGz6iX"
      },
      "execution_count": 227,
      "outputs": []
    },
    {
      "cell_type": "code",
      "source": [
        "\"\"\"\n",
        "Now, the model can take raw strings as input and predict a score for each label using Model.predict. \n",
        "\"\"\"\n",
        "\n",
        "inputs = [\n",
        "    \"i can't escape the tears after the loss of my pet\", \n",
        "    \"i am ever feeling nostalgic about the house\"\n",
        "]\n",
        "predicted_scores = export_model.predict(inputs)\n",
        "predicted_labels = get_string_labels(predicted_scores)\n",
        "for input, label in zip(inputs, predicted_labels):\n",
        "  print(\"User text: \", input)\n",
        "  print(\"Predicted label: \", EMOTIONS[label.numpy()])"
      ],
      "metadata": {
        "colab": {
          "base_uri": "https://localhost:8080/"
        },
        "id": "MmbKPZcikHZd",
        "outputId": "411b019f-f418-4715-f2d6-0bd9321573d3"
      },
      "execution_count": 228,
      "outputs": [
        {
          "output_type": "stream",
          "name": "stdout",
          "text": [
            "User text:  i can't escape the tears after the loss of my pet\n",
            "Predicted label:  sadness\n",
            "User text:  i am ever feeling nostalgic about the house\n",
            "Predicted label:  love\n"
          ]
        }
      ]
    }
  ],
  "metadata": {
    "colab": {
      "collapsed_sections": [],
      "name": "Emotion_Classifier.ipynb",
      "provenance": []
    },
    "kernelspec": {
      "display_name": "Python 3",
      "language": "python",
      "name": "python3"
    },
    "language_info": {
      "codemirror_mode": {
        "name": "ipython",
        "version": 3
      },
      "file_extension": ".py",
      "mimetype": "text/x-python",
      "name": "python",
      "nbconvert_exporter": "python",
      "pygments_lexer": "ipython3",
      "version": "3.8.5"
    }
  },
  "nbformat": 4,
  "nbformat_minor": 0
}